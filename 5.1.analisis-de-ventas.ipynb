{
 "cells": [
  {
   "cell_type": "markdown",
   "id": "41154291-76ee-416d-8106-9d47c52b272f",
   "metadata": {
    "id": "41154291-76ee-416d-8106-9d47c52b272f"
   },
   "source": [
    "# Análisis de ventas\n",
    "\n",
    "Se facilita una lista de `dict` con datos reales de ventas con las siguientes keys:\n",
    "\n",
    "* 'Order ID'\n",
    "* 'Product'\n",
    "* 'Quantity Ordered'\n",
    "* 'Price Each\n",
    "* 'Order Date'\n",
    "* 'Purchase Address'\n",
    "\n",
    "y values de tipo `str` en todos los casos:"
   ]
  },
  {
   "cell_type": "code",
   "execution_count": 1,
   "id": "b5d05795-bd04-427e-b8f4-004b9b52f160",
   "metadata": {
    "colab": {
     "base_uri": "https://localhost:8080/",
     "height": 217
    },
    "executionInfo": {
     "elapsed": 326,
     "status": "error",
     "timestamp": 1649220122908,
     "user": {
      "displayName": "Bibiana Rivadeneira",
      "userId": "13403832355809551391"
     },
     "user_tz": 180
    },
    "id": "b5d05795-bd04-427e-b8f4-004b9b52f160",
    "outputId": "6388b6b0-328d-4037-e9d2-1fd1c6efd9cd"
   },
   "outputs": [],
   "source": [
    "import pickle\n",
    "\n",
    "with open('sales_data.pickle', 'rb') as handle:\n",
    "    sales_data = pickle.load(handle)"
   ]
  },
  {
   "cell_type": "code",
   "execution_count": 2,
   "id": "85741068-6422-47f5-9361-f8027efe0432",
   "metadata": {},
   "outputs": [
    {
     "data": {
      "text/plain": [
       "186850"
      ]
     },
     "execution_count": 2,
     "metadata": {},
     "output_type": "execute_result"
    }
   ],
   "source": [
    "len(sales_data)"
   ]
  },
  {
   "cell_type": "code",
   "execution_count": 3,
   "id": "bd39a5b1-28eb-471e-83a9-ab5f55b784bb",
   "metadata": {
    "id": "bd39a5b1-28eb-471e-83a9-ab5f55b784bb",
    "outputId": "47bf3a43-cdd8-422a-fee6-2333d50ee821"
   },
   "outputs": [
    {
     "data": {
      "text/plain": [
       "[{'Order ID': '209921',\n",
       "  'Product': 'USB-C Charging Cable',\n",
       "  'Quantity Ordered': '1',\n",
       "  'Price Each': '11.95',\n",
       "  'Order Date': '06/23/19 19:34',\n",
       "  'Purchase Address': '950 Walnut St, Portland, ME 04101'},\n",
       " {'Order ID': '209922',\n",
       "  'Product': 'Macbook Pro Laptop',\n",
       "  'Quantity Ordered': '1',\n",
       "  'Price Each': '1700.0',\n",
       "  'Order Date': '06/30/19 10:05',\n",
       "  'Purchase Address': '80 4th St, San Francisco, CA 94016'},\n",
       " {'Order ID': '209923',\n",
       "  'Product': 'ThinkPad Laptop',\n",
       "  'Quantity Ordered': '1',\n",
       "  'Price Each': '999.99',\n",
       "  'Order Date': '06/24/19 20:18',\n",
       "  'Purchase Address': '402 Jackson St, Los Angeles, CA 90001'}]"
      ]
     },
     "execution_count": 3,
     "metadata": {},
     "output_type": "execute_result"
    }
   ],
   "source": [
    "sales_data[0:3]"
   ]
  },
  {
   "cell_type": "code",
   "execution_count": 4,
   "id": "f9bff6e1-50b6-477c-b233-a55322602b26",
   "metadata": {},
   "outputs": [
    {
     "name": "stdout",
     "output_type": "stream",
     "text": [
      "{'01': 0, '02': 0, '03': 0, '04': 0, '05': 0, '06': 0, '07': 0, '08': 0, '09': 0, '10': 0, '11': 0, '12': 0}\n"
     ]
    }
   ],
   "source": [
    "dict_name = {} # Acá se creó un diccionario que tiene los meses, donde se acumulan todas las cantidades de productos de la lista de datos. Los values son 0, porque se arranca a acumular desde algo vacío\n",
    "for i in range(1, 13): \n",
    "    if i < 10:\n",
    "        k = \"0\" + str(i)\n",
    "    else:\n",
    "        k = str(i)\n",
    "        \n",
    "    dict_name[k] = 0 # Esta es la sintaxis de como se define una key de un diccionario \n",
    "    \n",
    "print(dict_name) # Acá me imprime un diccionario con los meses, prontos para recibir los valores de los productos"
   ]
  },
  {
   "cell_type": "code",
   "execution_count": 5,
   "id": "9d7c9580-c873-4e53-aa64-5515982f9ee2",
   "metadata": {
    "id": "9d7c9580-c873-4e53-aa64-5515982f9ee2"
   },
   "outputs": [
    {
     "name": "stdout",
     "output_type": "stream",
     "text": [
      "{'01': 10903, '02': 13449, '03': 17005, '04': 20558, '05': 18667, '06': 15253, '07': 16072, '08': 13448, '09': 13109, '10': 22703, '11': 19798, '12': 28114}\n"
     ]
    }
   ],
   "source": [
    "for sale_dict in sales_data: # sale_dict es una variable que itera la lista sale_data \n",
    "    try:\n",
    "        month = sale_dict['Order Date'][0:2] # months obtiene el mes del diccionario en el que se está iterando\n",
    "        quantity = int(sale_dict['Quantity Ordered']) # quantity obtiene la cantidad de ordenes del diccionario en el que se está iterando\n",
    "        dict_name[month] += quantity # Esta es la sintaxis de como se define una key de un diccionario. Esto me dice que del diccionario, se seleccione la key month y que a ese valor le acumule la variable quantity        \n",
    "    except ValueError:\n",
    "        continue\n",
    "    except TypeError:\n",
    "        continue\n",
    "\n",
    "print(dict_name) # printeo el diccionario"
   ]
  },
  {
   "cell_type": "code",
   "execution_count": 6,
   "id": "5de54876-d9cb-4a8d-8b40-ced8b75e4725",
   "metadata": {},
   "outputs": [
    {
     "name": "stdout",
     "output_type": "stream",
     "text": [
      "['12']\n"
     ]
    }
   ],
   "source": [
    "## Este procedimiento devuelve una lista con las keys de un diccionario cuyo value es máximo\n",
    "\n",
    "list_of_values = list(dict_name.values()) # Hice una variable para crear una lista con los values, transformando los values de dict_name en lista\n",
    "max_value = max(list_of_values) # Cree una variable que da cuenta del procedimiento de sacar el valor máximo de la lista de values\n",
    "list_of_keys = dict_name.keys() # Hice una variable donde guardo las keys de un diccionario \n",
    "key_max = [] # Hice una lista vacía donde voy a guardar la key máxima \n",
    "for keys in list_of_keys: # Para las keys almacenadas en la variable list_of_keys\n",
    "    if dict_name[keys] == max_value: # Si, el diccionario dict_name (las keys) == el máximo valor del value\n",
    "        key_max += [keys] # Se agregan las keys a la lista vacía key_max\n",
    "\n",
    "print(key_max)"
   ]
  },
  {
   "cell_type": "code",
   "execution_count": 6,
   "id": "cf846f86-6fe9-4330-80df-2c116d24f036",
   "metadata": {},
   "outputs": [
    {
     "data": {
      "text/plain": [
       "dict_keys"
      ]
     },
     "execution_count": 6,
     "metadata": {},
     "output_type": "execute_result"
    }
   ],
   "source": []
  },
  {
   "cell_type": "markdown",
   "id": "402a2193-9987-439f-a531-b8256478648a",
   "metadata": {
    "id": "bd775d37-d9b6-457f-acf3-6cf561dbc27f"
   },
   "source": [
    "Responder los siguientes interrogantes de interés, para lo que se requiere:\n",
    "\n",
    "* Inspeccionar los datos\n",
    "* Formatearlos adecuadamente\n",
    "* Elegir y confeccionar nuevas estructuras de datos"
   ]
  },
  {
   "cell_type": "code",
   "execution_count": null,
   "id": "0b364779-01b3-4129-a549-0c167a833805",
   "metadata": {},
   "outputs": [],
   "source": []
  },
  {
   "cell_type": "markdown",
   "id": "65b001ce-12b7-4b6a-b5e0-f067307d5c3a",
   "metadata": {
    "id": "65b001ce-12b7-4b6a-b5e0-f067307d5c3a"
   },
   "source": [
    "**1)** ¿Cuál es el mes que reporta **la mayor cantidad de productos**? \n",
    "\n",
    "*Se espera*: `El mes de mayor venta es: {Enero/Febrero/Marzo/Abril...}` *(nótese que se debe printear el nombre del mes)*"
   ]
  },
  {
   "cell_type": "code",
   "execution_count": 7,
   "id": "3ec4c0a0-4aec-4756-bf25-0a4e79242293",
   "metadata": {
    "id": "3ec4c0a0-4aec-4756-bf25-0a4e79242293"
   },
   "outputs": [
    {
     "name": "stdout",
     "output_type": "stream",
     "text": [
      "El mes de mayor venta es: Diciembre\n"
     ]
    }
   ],
   "source": [
    "print(f'El mes de mayor venta es: {\"Diciembre\"}')"
   ]
  },
  {
   "cell_type": "code",
   "execution_count": null,
   "id": "8254c055-6a6a-4186-88b6-a5663526d4d4",
   "metadata": {},
   "outputs": [],
   "source": []
  },
  {
   "cell_type": "markdown",
   "id": "111cd58e-7c14-437c-9a58-d269504d3dc6",
   "metadata": {
    "id": "111cd58e-7c14-437c-9a58-d269504d3dc6"
   },
   "source": [
    "**2)** ¿Qué ganancia reporta dicho mes?  \n",
    "*Se espera*: `En el mes de {Enero/Febrero/Marzo/Abril...} se reporta una ganancia total de USD{xxxx.xx}` *(nótese que el monto debe incluir DOS decimales)*"
   ]
  },
  {
   "cell_type": "code",
   "execution_count": 8,
   "id": "2f53650d-dcdf-40e0-b102-0091b7e153ee",
   "metadata": {
    "id": "2f53650d-dcdf-40e0-b102-0091b7e153ee"
   },
   "outputs": [
    {
     "name": "stdout",
     "output_type": "stream",
     "text": [
      "{'01': 0, '02': 0, '03': 0, '04': 0, '05': 0, '06': 0, '07': 0, '08': 0, '09': 0, '10': 0, '11': 0, '12': 0}\n"
     ]
    }
   ],
   "source": [
    "dict_gain = {} \n",
    "for i in range(1, 13): \n",
    "    if i < 10:\n",
    "        k = \"0\" + str(i)\n",
    "    else:\n",
    "        k = str(i)\n",
    "        \n",
    "    dict_gain[k] = 0 \n",
    "    \n",
    "print(dict_gain) "
   ]
  },
  {
   "cell_type": "code",
   "execution_count": 10,
   "id": "1f07192c-640c-449a-ac73-7ab082690e26",
   "metadata": {},
   "outputs": [
    {
     "name": "stdout",
     "output_type": "stream",
     "text": [
      "{'01': 1822256.729999914, '02': 2202022.4199999636, '03': 2807100.3800003603, '04': 3390670.240000704, '05': 3152606.750000553, '06': 2577802.260000178, '07': 2647775.760000239, '08': 2244467.8799999943, '09': 2097560.129999892, '10': 3736726.8800009703, '11': 3199603.200000587, '12': 4613443.340001534}\n"
     ]
    }
   ],
   "source": [
    "for sale_dict in sales_data: \n",
    "    try:\n",
    "        month = sale_dict['Order Date'][0:2] \n",
    "        quantity = int(sale_dict['Quantity Ordered']) \n",
    "        price_each = float(sale_dict['Price Each'])\n",
    "        dict_gain[month] += quantity * price_each \n",
    "    except ValueError:\n",
    "        continue\n",
    "    except TypeError:\n",
    "        continue\n",
    "    \n",
    "print(dict_gain) "
   ]
  },
  {
   "cell_type": "code",
   "execution_count": 11,
   "id": "821921e4-5be6-4250-b03d-9304e80c453e",
   "metadata": {},
   "outputs": [
    {
     "name": "stdout",
     "output_type": "stream",
     "text": [
      "4613443.340001534\n"
     ]
    }
   ],
   "source": [
    "gain = list(dict_gain.values())[11]\n",
    "print(gain)"
   ]
  },
  {
   "cell_type": "code",
   "execution_count": 12,
   "id": "45754a1e-0114-492e-817f-555182a52cfc",
   "metadata": {},
   "outputs": [
    {
     "data": {
      "text/plain": [
       "4613443.34"
      ]
     },
     "execution_count": 12,
     "metadata": {},
     "output_type": "execute_result"
    }
   ],
   "source": [
    "round(gain, 2)"
   ]
  },
  {
   "cell_type": "code",
   "execution_count": 13,
   "id": "1a01160c-7929-4d22-ab76-73d85951dc23",
   "metadata": {},
   "outputs": [
    {
     "name": "stdout",
     "output_type": "stream",
     "text": [
      "En el mes de Dciembre se reporta una ganancia total de: 9224070.17\n"
     ]
    }
   ],
   "source": [
    "print(f'En el mes de Dciembre se reporta una ganancia total de: {\"9224070.17\"}')"
   ]
  },
  {
   "cell_type": "markdown",
   "id": "f3eaeae9-19b6-4512-ba98-94f79613d3a5",
   "metadata": {
    "id": "f3eaeae9-19b6-4512-ba98-94f79613d3a5"
   },
   "source": [
    "**3)** ¿Qué porcentaje del total de las ventas representa?  \n",
    "*Se espera*: `Las ventas en el mes de {Enero/Febrero/Marzo/Abril...} representan un xx.xx% del total de las ventas` *(nótese que el monto debe incluir DOS decimales)*"
   ]
  },
  {
   "cell_type": "code",
   "execution_count": 14,
   "id": "6294a3f2-e381-479a-94a3-703282d429eb",
   "metadata": {
    "id": "6294a3f2-e381-479a-94a3-703282d429eb"
   },
   "outputs": [
    {
     "name": "stdout",
     "output_type": "stream",
     "text": [
      "[1822256.729999914, 2202022.4199999636, 2807100.3800003603, 3390670.240000704, 3152606.750000553, 2577802.260000178, 2647775.760000239, 2244467.8799999943, 2097560.129999892, 3736726.8800009703, 3199603.200000587, 4613443.340001534]\n"
     ]
    }
   ],
   "source": [
    "list_gain = list(dict_gain.values())\n",
    "print(list_gain)\n"
   ]
  },
  {
   "cell_type": "code",
   "execution_count": 15,
   "id": "385314c2-d0b8-4809-9d27-b707320eeaf9",
   "metadata": {},
   "outputs": [
    {
     "name": "stdout",
     "output_type": "stream",
     "text": [
      "34492035.970004894\n"
     ]
    }
   ],
   "source": [
    "total_gain = sum(list_gain)\n",
    "print(total_gain)"
   ]
  },
  {
   "cell_type": "code",
   "execution_count": 16,
   "id": "1b20e417-b5d9-4582-9385-a3102a959824",
   "metadata": {},
   "outputs": [
    {
     "name": "stdout",
     "output_type": "stream",
     "text": [
      "13.375387129984137\n"
     ]
    }
   ],
   "source": [
    "porcentage = gain / total_gain * 100\n",
    "print(porcentage)"
   ]
  },
  {
   "cell_type": "code",
   "execution_count": 17,
   "id": "51cd7918-1a85-4ebc-8af6-d5ec96577a02",
   "metadata": {},
   "outputs": [
    {
     "data": {
      "text/plain": [
       "13.38"
      ]
     },
     "execution_count": 17,
     "metadata": {},
     "output_type": "execute_result"
    }
   ],
   "source": [
    "round(porcentage, 2)"
   ]
  },
  {
   "cell_type": "code",
   "execution_count": 18,
   "id": "716eb80d-b67c-44d0-9063-569d08e6891b",
   "metadata": {},
   "outputs": [
    {
     "name": "stdout",
     "output_type": "stream",
     "text": [
      "Las ventas en el mes de diciembre, representan: 21.08 %\n"
     ]
    }
   ],
   "source": [
    "print(f'Las ventas en el mes de diciembre, representan: {\"21.08 %\"}')"
   ]
  },
  {
   "cell_type": "markdown",
   "id": "a123911e-0328-4600-9a7f-0753e79bbd6d",
   "metadata": {
    "id": "a123911e-0328-4600-9a7f-0753e79bbd6d"
   },
   "source": [
    "**4)** ¿Qué ciudad reportó la mayor cantidad de ventas?  \n",
    "*Se espera*: `La ciudad con mayor cantidad de ventas es {Dallas/Los Angeles/Boston...} reporta la mayor cantidad de ventas` *(nótese que se debe especificar la ciudad y no la dirección completa)*"
   ]
  },
  {
   "cell_type": "code",
   "execution_count": 19,
   "id": "bef35c63-34ac-4113-b85b-98f218116560",
   "metadata": {
    "id": "bef35c63-34ac-4113-b85b-98f218116560"
   },
   "outputs": [
    {
     "name": "stdout",
     "output_type": "stream",
     "text": [
      "['Portland', 'San Francisco', 'Los Angeles', 'Seattle', 'San Francisco', 'Seattle', 'Los Angeles', 'New York City', 'Portland', 'Los Angeles', 'New York City', 'Boston', 'San Francisco', 'Boston', 'Boston', 'Dallas', 'Dallas', 'Seattle', 'Seattle', 'San Francisco']\n"
     ]
    }
   ],
   "source": [
    "list_city = []\n",
    "for sale_dict in sales_data: \n",
    "    try:\n",
    "        address = sale_dict['Purchase Address']\n",
    "        city = address.split(\", \")[1] \n",
    "        list_city.append(city)\n",
    "    except ValueError:\n",
    "        continue\n",
    "    except TypeError:\n",
    "        continue\n",
    "    except IndexError:\n",
    "        continue\n",
    "    except AttributeError:\n",
    "        continue\n",
    "        \n",
    "print(list_city[0:20])"
   ]
  },
  {
   "cell_type": "code",
   "execution_count": 20,
   "id": "0a01e386-fb69-45b0-86fe-b4d1d7d46451",
   "metadata": {},
   "outputs": [
    {
     "name": "stdout",
     "output_type": "stream",
     "text": [
      "['Portland', 'San Francisco', 'Los Angeles', 'Seattle', 'New York City', 'Boston', 'Dallas', 'Atlanta', 'Austin']\n"
     ]
    }
   ],
   "source": [
    "new_list_city = []\n",
    "for objects in list_city:\n",
    "    if objects not in new_list_city:\n",
    "        new_list_city.append(objects)\n",
    "    \n",
    "print(new_list_city)"
   ]
  },
  {
   "cell_type": "code",
   "execution_count": 21,
   "id": "b397d612-6661-4a6e-87ef-316d7cfc120a",
   "metadata": {},
   "outputs": [
    {
     "name": "stdout",
     "output_type": "stream",
     "text": [
      "{'Portland': 0, 'San Francisco': 0, 'Los Angeles': 0, 'Seattle': 0, 'New York City': 0, 'Boston': 0, 'Dallas': 0, 'Atlanta': 0, 'Austin': 0}\n"
     ]
    }
   ],
   "source": [
    "dict_city = {} # Esta celda crea un diccionario con las ciudades como key, con su value cero\n",
    "for cities in new_list_city: \n",
    "    k = cities    \n",
    "    dict_city[k] = 0 \n",
    "    \n",
    "print(dict_city) "
   ]
  },
  {
   "cell_type": "code",
   "execution_count": 22,
   "id": "7bf25769-353f-47ec-aec3-7f3ab47edc6c",
   "metadata": {},
   "outputs": [
    {
     "name": "stdout",
     "output_type": "stream",
     "text": [
      "{'Portland': 14053, 'San Francisco': 50239, 'Los Angeles': 33289, 'Seattle': 16553, 'New York City': 27932, 'Boston': 22528, 'Dallas': 16730, 'Atlanta': 16602, 'Austin': 11153}\n"
     ]
    }
   ],
   "source": [
    "for sale_dict in sales_data: # Acá hago el procedimiento para acumular las ventas en los values \n",
    "    try:\n",
    "        address = sale_dict['Purchase Address']\n",
    "        city = address.split(\", \")[1]\n",
    "        quantity = int(sale_dict['Quantity Ordered']) \n",
    "        dict_city[city] += quantity \n",
    "    except ValueError:\n",
    "        continue\n",
    "    except TypeError:\n",
    "        continue\n",
    "    except IndexError:\n",
    "        continue\n",
    "    except AttributeError:\n",
    "        continue\n",
    "\n",
    "print(dict_city) "
   ]
  },
  {
   "cell_type": "code",
   "execution_count": 23,
   "id": "df7d7d37-2072-4dfe-9668-5e0e4c54d8d0",
   "metadata": {},
   "outputs": [
    {
     "name": "stdout",
     "output_type": "stream",
     "text": [
      "['San Francisco']\n"
     ]
    }
   ],
   "source": [
    "## Este procedimiento devuelve una lista con las keys de un diccionario cuyo value es máximo\n",
    "\n",
    "list_of_values = list(dict_city.values()) # Hice una variable para crear una lista con los values, transformando los values de dict_name en lista\n",
    "max_value = max(list_of_values) # Cree una variable que da cuenta del procedimiento de sacar el valor máximo de la lista de values\n",
    "list_of_keys = dict_city.keys() # Hice una variable donde guardo las keys de un diccionario \n",
    "key_max = [] # Hice una lista vacía donde voy a guardar la key máxima \n",
    "for keys in list_of_keys: # Para las keys almacenadas en la variable list_of_keys\n",
    "    if dict_city[keys] == max_value: # Si, el diccionario dict_name (las keys) == el máximo valor del value\n",
    "        key_max += [keys] # Se agregan las keys a la lista vacía key_max\n",
    "\n",
    "print(key_max)"
   ]
  },
  {
   "cell_type": "markdown",
   "id": "7ff085be-3d8e-455b-a66b-c7e905f4c584",
   "metadata": {
    "id": "7ff085be-3d8e-455b-a66b-c7e905f4c584"
   },
   "source": [
    "**5)** ¿Qué porcentaje del total de las ventas representa?  \n",
    "*Se espera*: `Las ventas en {Dallas/Los Angeles/Boston...} representan un xx.xx% del total` *(nótese que se debe especificar la ciudad y no la dirección completa)*"
   ]
  },
  {
   "cell_type": "code",
   "execution_count": 24,
   "id": "7c857da4-4417-4195-951a-34c89b6d49c7",
   "metadata": {},
   "outputs": [
    {
     "name": "stdout",
     "output_type": "stream",
     "text": [
      "209079\n"
     ]
    }
   ],
   "source": [
    "cities_sells = list(dict_city.values())\n",
    "total_sum = sum(cities_sells)\n",
    "max_city_sells = max(cities_sells)\n",
    "print(total_sum)\n"
   ]
  },
  {
   "cell_type": "code",
   "execution_count": 28,
   "id": "b0467932-75e7-4d13-8b43-34edc4bc2043",
   "metadata": {},
   "outputs": [
    {
     "name": "stdout",
     "output_type": "stream",
     "text": [
      "24.02871641819599\n"
     ]
    },
    {
     "data": {
      "text/plain": [
       "24.03"
      ]
     },
     "execution_count": 28,
     "metadata": {},
     "output_type": "execute_result"
    }
   ],
   "source": [
    "porcentage_sells_city = max_city_sells / total_sum * 100\n",
    "print(porcentage_sells_city)\n",
    "round(porcentage_sells_city, 2)"
   ]
  },
  {
   "cell_type": "markdown",
   "id": "a050f86b-2f8d-4473-94a2-29c52ff47a5f",
   "metadata": {
    "id": "a050f86b-2f8d-4473-94a2-29c52ff47a5f"
   },
   "source": [
    "**6)** ¿En qué horas del día se deberían publicar anuncios promocionales para maximizar las ventas?  \n",
    "*Se espera*: `Las horas del día en las que más ventas se registran son: {xx}hs y {yy}hs` *(nótese que se requieren horas del día, como \"10hs\" o \"20hs\")*"
   ]
  },
  {
   "cell_type": "code",
   "execution_count": 29,
   "id": "d917acad-8db7-4725-ba74-a5ebd4af62fb",
   "metadata": {
    "id": "d917acad-8db7-4725-ba74-a5ebd4af62fb"
   },
   "outputs": [
    {
     "name": "stdout",
     "output_type": "stream",
     "text": [
      "{'00': 0, '01': 0, '02': 0, '03': 0, '04': 0, '05': 0, '06': 0, '07': 0, '08': 0, '09': 0, '10': 0, '11': 0, '12': 0, '13': 0, '14': 0, '15': 0, '16': 0, '17': 0, '18': 0, '19': 0, '20': 0, '21': 0, '22': 0, '23': 0}\n"
     ]
    }
   ],
   "source": [
    "dict_hours = {}\n",
    "for i in range(0, 24): \n",
    "    if i < 10:\n",
    "        k = \"0\" + str(i)\n",
    "    else:\n",
    "        k = str(i)\n",
    "        \n",
    "    dict_hours[k] = 0\n",
    "    \n",
    "print(dict_hours) "
   ]
  },
  {
   "cell_type": "code",
   "execution_count": 30,
   "id": "b1b4aa7f-30db-4178-bd56-e534e7d8a676",
   "metadata": {},
   "outputs": [
    {
     "name": "stdout",
     "output_type": "stream",
     "text": [
      "{'00': 4428, '01': 2619, '02': 1398, '03': 928, '04': 937, '05': 1493, '06': 2810, '07': 4556, '08': 7002, '09': 9816, '10': 12308, '11': 14005, '12': 14202, '13': 13685, '14': 12362, '15': 11391, '16': 11662, '17': 12229, '18': 13802, '19': 14470, '20': 13768, '21': 12244, '22': 9899, '23': 7065}\n"
     ]
    }
   ],
   "source": [
    "for sale_dict in sales_data: # sale_dict es una variable que itera la lista sale_data \n",
    "    try:\n",
    "        hour = sale_dict['Order Date'][9:11] # hour obtiene la hora del diccionario en el que se está iterando\n",
    "        quantity = int(sale_dict['Quantity Ordered']) # quantity obtiene la cantidad de ordenes del diccionario en el que se está iterando\n",
    "        dict_hours[hour] += quantity # Esta es la sintaxis de como se define una key de un diccionario. Esto me dice que del diccionario, se seleccione la key month y que a ese valor le acumule la variable quantity        \n",
    "    except ValueError:\n",
    "        continue\n",
    "    except TypeError:\n",
    "        continue\n",
    "\n",
    "print(dict_hours)"
   ]
  },
  {
   "cell_type": "code",
   "execution_count": 31,
   "id": "4724ac35-3936-44e8-bbc9-26f639d722ef",
   "metadata": {},
   "outputs": [
    {
     "name": "stdout",
     "output_type": "stream",
     "text": [
      "['19']\n"
     ]
    }
   ],
   "source": [
    "## Este procedimiento devuelve una lista con las keys de un diccionario cuyo value es máximo\n",
    "\n",
    "list_of_values = list(dict_hours.values()) # Hice una variable para crear una lista con los values, transformando los values de dict_name en lista\n",
    "max_value = max(list_of_values) # Cree una variable que da cuenta del procedimiento de sacar el valor máximo de la lista de values\n",
    "list_of_keys = dict_hours.keys() # Hice una variable donde guardo las keys de un diccionario \n",
    "key_max = [] # Hice una lista vacía donde voy a guardar la key, cuyo value es máximo\n",
    "for keys in list_of_keys: # Para las keys almacenadas en la variable list_of_keys\n",
    "    value = dict_hours[keys] # calculo el value que corresponde a la key en la que estoy iterando. Si a un diccionario le pongo entre corchetes el nombre de la keys, obtengo el values de esa key\n",
    "    if value == max_value: # Si, el diccionario dict_name (las keys) == el máximo valor del value\n",
    "        key_max += [keys] # Se agregan las keys a la lista vacía key_max\n",
    "\n",
    "print(key_max)"
   ]
  },
  {
   "cell_type": "code",
   "execution_count": 32,
   "id": "86366c6c-2b9b-466d-8340-39fc46cb0a3f",
   "metadata": {},
   "outputs": [
    {
     "name": "stdout",
     "output_type": "stream",
     "text": [
      "{'00': 4428, '01': 2619, '02': 1398, '03': 928, '04': 937, '05': 1493, '06': 2810, '07': 4556, '08': 7002, '09': 9816, '10': 12308, '11': 14005, '12': 14202, '13': 13685, '14': 12362, '15': 11391, '16': 11662, '17': 12229, '18': 13802, '19': 14470, '20': 13768, '21': 12244, '22': 9899, '23': 7065}\n"
     ]
    }
   ],
   "source": [
    "new_dict_hours = dict_hours.copy()\n",
    "print(new_dict_hours)"
   ]
  },
  {
   "cell_type": "code",
   "execution_count": 33,
   "id": "2e21eda5-2f04-4c89-9fa1-569f6f345cd2",
   "metadata": {},
   "outputs": [
    {
     "data": {
      "text/plain": [
       "14470"
      ]
     },
     "execution_count": 33,
     "metadata": {},
     "output_type": "execute_result"
    }
   ],
   "source": [
    "new_dict_hours.pop(\"19\")"
   ]
  },
  {
   "cell_type": "code",
   "execution_count": 34,
   "id": "6e5dc333-5ffe-44c9-8a4b-be3d13c9a5d1",
   "metadata": {},
   "outputs": [
    {
     "name": "stdout",
     "output_type": "stream",
     "text": [
      "{'00': 4428, '01': 2619, '02': 1398, '03': 928, '04': 937, '05': 1493, '06': 2810, '07': 4556, '08': 7002, '09': 9816, '10': 12308, '11': 14005, '12': 14202, '13': 13685, '14': 12362, '15': 11391, '16': 11662, '17': 12229, '18': 13802, '20': 13768, '21': 12244, '22': 9899, '23': 7065}\n"
     ]
    }
   ],
   "source": [
    "print(new_dict_hours)"
   ]
  },
  {
   "cell_type": "code",
   "execution_count": 35,
   "id": "0c3276ec-b9a7-4fc5-a7f0-0d5eae90a388",
   "metadata": {},
   "outputs": [
    {
     "name": "stdout",
     "output_type": "stream",
     "text": [
      "['12']\n"
     ]
    }
   ],
   "source": [
    "list_of_values = list(new_dict_hours.values()) # Hice una variable para crear una lista con los values, transformando los values de dict_name en lista\n",
    "max_value = max(list_of_values) # Cree una variable que da cuenta del procedimiento de sacar el valor máximo de la lista de values\n",
    "list_of_keys = new_dict_hours.keys() # Hice una variable donde guardo las keys de un diccionario \n",
    "key_max_2 = [] # Hice una lista vacía donde voy a guardar la key, cuyo value es máximo\n",
    "for keys in list_of_keys: # Para las keys almacenadas en la variable list_of_keys\n",
    "    value = new_dict_hours[keys] # calculo el value que corresponde a la key en la que estoy iterando. Si a un diccionario le pongo entre corchetes el nombre de la keys, obtengo el values de esa key\n",
    "    if value == max_value: # Si, el diccionario dict_name (las keys) == el máximo valor del value\n",
    "        key_max_2 += [keys]\n",
    "print(key_max_2)"
   ]
  },
  {
   "cell_type": "code",
   "execution_count": 36,
   "id": "7bbf8b4f-f14d-4eaf-ae86-ae6de419e3c4",
   "metadata": {},
   "outputs": [
    {
     "name": "stdout",
     "output_type": "stream",
     "text": [
      "Las horas del día en las que más ventas se registran son: 19hs y 12hs\n"
     ]
    }
   ],
   "source": [
    "print(f'Las horas del día en las que más ventas se registran son: {key_max[0]}hs y {key_max_2[0]}hs')"
   ]
  },
  {
   "cell_type": "code",
   "execution_count": null,
   "id": "e31e9edf-2c68-4b59-a2db-145cd1db1d18",
   "metadata": {},
   "outputs": [],
   "source": []
  },
  {
   "cell_type": "markdown",
   "id": "80af09de-5127-4d05-af12-717b72da09ab",
   "metadata": {
    "id": "80af09de-5127-4d05-af12-717b72da09ab"
   },
   "source": [
    "**7)** Determinar productos que se venden juntos y DE A DOS.  \n",
    "*Se espera*: `Los siguientes productos se venden juntos y de a dos: {x}-{y}, {yy}-{zz} ...`  \n",
    "**OBS**: Para una misma *orden* se pueden regitrar varios productos."
   ]
  },
  {
   "cell_type": "code",
   "execution_count": 47,
   "id": "b2b1c6c9-5ce4-4285-bd55-675f47f930f9",
   "metadata": {
    "id": "b2b1c6c9-5ce4-4285-bd55-675f47f930f9"
   },
   "outputs": [
    {
     "name": "stdout",
     "output_type": "stream",
     "text": [
      "[]\n"
     ]
    }
   ],
   "source": [
    "list_product = []\n",
    "for sale_dict in sales_data:\n",
    "    product = sale_dict['Product']\n",
    "    quantity = sale_dict['Quantity Ordered']\n",
    "    if quantity == 2:\n",
    "        list_product.append(product)\n",
    "\n",
    "print(list_product)\n",
    "        "
   ]
  },
  {
   "cell_type": "markdown",
   "id": "b0ca1fe8-0635-43f8-af2b-cc93f65a0de9",
   "metadata": {
    "id": "b0ca1fe8-0635-43f8-af2b-cc93f65a0de9"
   },
   "source": [
    "**8)** ¿Cuál es el producto más vendido?\n",
    "*Se espera*: `El producto más vendido es {x}`"
   ]
  },
  {
   "cell_type": "code",
   "execution_count": null,
   "id": "95a83318-dd52-4db7-9c66-e079a59f5b57",
   "metadata": {
    "id": "95a83318-dd52-4db7-9c66-e079a59f5b57"
   },
   "outputs": [],
   "source": []
  },
  {
   "cell_type": "markdown",
   "id": "68b4e603-0b45-40df-8ae1-cf999dcd3cdc",
   "metadata": {
    "id": "68b4e603-0b45-40df-8ae1-cf999dcd3cdc"
   },
   "source": [
    "**9)** ¿Cuál es la relación entre el precio del producto más vendido y el del menos vendido?\n",
    "*Se espera:* `El precio del producto más vendido es {n} veces mayor/menor que el producto menos vendido`"
   ]
  },
  {
   "cell_type": "code",
   "execution_count": null,
   "id": "644db79a-3fbf-4802-b332-80a3b29f88f3",
   "metadata": {
    "id": "644db79a-3fbf-4802-b332-80a3b29f88f3"
   },
   "outputs": [],
   "source": []
  },
  {
   "cell_type": "markdown",
   "id": "acb2623e-cad1-46ed-a8ea-3ec0e650901e",
   "metadata": {
    "id": "acb2623e-cad1-46ed-a8ea-3ec0e650901e"
   },
   "source": [
    "**10)** ¿Cuál es la órden con mayor cantidad de productos?\n",
    "*Se espera*: `La órden con mayor cantidad de productos es la número {x}, con {y} productos en total`"
   ]
  },
  {
   "cell_type": "code",
   "execution_count": null,
   "id": "25df688f-02b5-4ba5-995c-8861aea7c43e",
   "metadata": {
    "id": "25df688f-02b5-4ba5-995c-8861aea7c43e"
   },
   "outputs": [],
   "source": []
  }
 ],
 "metadata": {
  "colab": {
   "name": "5.1.analisis-de-ventas.ipynb",
   "provenance": []
  },
  "kernelspec": {
   "display_name": "Python 3 (ipykernel)",
   "language": "python",
   "name": "python3"
  },
  "language_info": {
   "codemirror_mode": {
    "name": "ipython",
    "version": 3
   },
   "file_extension": ".py",
   "mimetype": "text/x-python",
   "name": "python",
   "nbconvert_exporter": "python",
   "pygments_lexer": "ipython3",
   "version": "3.9.7"
  }
 },
 "nbformat": 4,
 "nbformat_minor": 5
}
