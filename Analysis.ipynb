{
 "cells": [
  {
   "cell_type": "markdown",
   "id": "e7749cd0-d2c1-4521-b20d-0e63b3fcda44",
   "metadata": {},
   "source": [
    "# Analisys"
   ]
  },
  {
   "cell_type": "markdown",
   "id": "0b0b1139-f536-4829-93c5-6c1028f7ff78",
   "metadata": {},
   "source": [
    "> In this work I use differents tools to do the algorithm that solve each exersice. \n",
    "> During the ejecution of the blocks of code appear differents errors, at the moment of printing ranges of dictionary, but they have been solved with using the control structure *Try Except*\n",
    "> The months that report more quantity orders is december, is possible to say that because december is the month with more consumtion, because workers obtain incentives in their jobs. Also december is the moths of celebration and people buy presents. \n",
    "> It is possible to appreciate that there are no products sold. The company should promote two products together. "
   ]
  },
  {
   "cell_type": "code",
   "execution_count": null,
   "id": "f91e6959-2357-43c6-a416-e01306e3edbf",
   "metadata": {},
   "outputs": [],
   "source": []
  }
 ],
 "metadata": {
  "kernelspec": {
   "display_name": "Python 3 (ipykernel)",
   "language": "python",
   "name": "python3"
  },
  "language_info": {
   "codemirror_mode": {
    "name": "ipython",
    "version": 3
   },
   "file_extension": ".py",
   "mimetype": "text/x-python",
   "name": "python",
   "nbconvert_exporter": "python",
   "pygments_lexer": "ipython3",
   "version": "3.9.7"
  }
 },
 "nbformat": 4,
 "nbformat_minor": 5
}
